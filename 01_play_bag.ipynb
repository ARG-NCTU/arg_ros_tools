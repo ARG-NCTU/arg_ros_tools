{
 "cells": [
  {
   "cell_type": "code",
   "execution_count": null,
   "metadata": {},
   "outputs": [],
   "source": [
    "#| default_exp core"
   ]
  },
  {
   "cell_type": "markdown",
   "metadata": {},
   "source": [
    "# arg_ros_tools\n",
    "\n",
    "> A toolset for rosbag created by arg lab."
   ]
  },
  {
   "cell_type": "code",
   "execution_count": null,
   "metadata": {},
   "outputs": [],
   "source": [
    "#| hide\n",
    "from nbdev.showdoc import *"
   ]
  },
  {
   "cell_type": "code",
   "execution_count": null,
   "metadata": {},
   "outputs": [],
   "source": [
    "get_ipython().system_raw('roscore &')"
   ]
  },
  {
   "cell_type": "code",
   "execution_count": null,
   "metadata": {},
   "outputs": [
    {
     "name": "stdout",
     "output_type": "stream",
     "text": [
      "dreamvu.bag  \u001b[0m\u001b[01;34mextract\u001b[0m/  zed.bag\r\n"
     ]
    }
   ],
   "source": [
    "ls data/"
   ]
  },
  {
   "cell_type": "code",
   "execution_count": null,
   "metadata": {},
   "outputs": [],
   "source": [
    "get_ipython().system_raw('rosbag play -l data/dreamvu.bag & ')"
   ]
  },
  {
   "cell_type": "code",
   "execution_count": null,
   "metadata": {},
   "outputs": [],
   "source": [
    "get_ipython().system_raw('rostopic list & ')"
   ]
  },
  {
   "cell_type": "code",
   "execution_count": null,
   "metadata": {},
   "outputs": [],
   "source": [
    "get_ipython().system_raw('rostopic hz /dreamvu/pal/get/left/compressed & ')"
   ]
  },
  {
   "cell_type": "code",
   "execution_count": null,
   "metadata": {},
   "outputs": [
    {
     "name": "stderr",
     "output_type": "stream",
     "text": [
      "ERROR: Unable to communicate with master!\n",
      "ERROR: Unable to communicate with master!\n",
      "ERROR: Unable to communicate with master!\n"
     ]
    },
    {
     "name": "stdout",
     "output_type": "stream",
     "text": [
      "\u001b[0m[ INFO] [1654607742.517119598]: Opening data/dreamvu.bag\u001b[0m\n",
      "\n",
      "Waiting 0.2 seconds after advertising topics... done.\n",
      "\n",
      "Hit space to toggle paused, or 's' to step.\n",
      " [RUNNING]  Bag Time: 1652779732.877912   Duration: 2.279334 / 146.588552               \r"
     ]
    }
   ],
   "source": [
    "get_ipython().system_raw('rostopic bw /dreamvu/pal/get/left/compressed & ')"
   ]
  },
  {
   "cell_type": "code",
   "execution_count": null,
   "metadata": {},
   "outputs": [],
   "source": []
  }
 ],
 "metadata": {
  "kernelspec": {
   "display_name": "Python 3 (ipykernel)",
   "language": "python",
   "name": "python3"
  }
 },
 "nbformat": 4,
 "nbformat_minor": 2
}
