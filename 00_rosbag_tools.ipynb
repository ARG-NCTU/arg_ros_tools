{
 "cells": [
  {
   "cell_type": "code",
   "execution_count": null,
   "metadata": {},
   "outputs": [],
   "source": [
    "# default_exp rosbag_tools"
   ]
  },
  {
   "cell_type": "markdown",
   "metadata": {},
   "source": [
    "# arg_ros_tools\n",
    "\n",
    "> A toolset for rosbag created by arg lab."
   ]
  },
  {
   "cell_type": "code",
   "execution_count": null,
   "metadata": {},
   "outputs": [],
   "source": [
    "#hide\n",
    "from nbdev.showdoc import *"
   ]
  },
  {
   "cell_type": "code",
   "execution_count": null,
   "metadata": {},
   "outputs": [],
   "source": [
    "#|export\n",
    "#nbdev_comment from __future__ import print_function\n",
    "\n",
    "import os\n",
    "import argparse\n",
    "import cv2\n",
    "import rosbag\n",
    "import yaml\n",
    "import time\n",
    "import apriltag\n",
    "import pytransform3d.rotations as pr\n",
    "import numpy as np\n",
    "import matplotlib.pyplot as plt\n",
    "from os.path import exists\n",
    "from sensor_msgs.msg import Image\n",
    "from cv_bridge import CvBridge\n",
    "\n",
    "class arg_bag_extracter:\n",
    "    def __init__(self, bag_file, output_dir, image_topic, depth_topic): \n",
    "        self.bag_file = \"data/\"+bag_file\n",
    "        self.bag = rosbag.Bag(self.bag_file, \"r\")\n",
    "        self.output_dir = \"data/\"+output_dir\n",
    "        self.image_topic = image_topic\n",
    "        self.depth_topic = depth_topic\n",
    "        plt.rcParams['figure.figsize'] = (40, 40)        # large images\n",
    "\n",
    "    def extract(self):\n",
    "        bridge = CvBridge()\n",
    "        count = 0\n",
    "        for topic, msg, t in self.bag.read_messages(topics=[self.image_topic]):\n",
    "            cv_img = bridge.imgmsg_to_cv2(msg, \"bgr8\")\n",
    "            cv2.imwrite(os.path.join(self.output_dir+\"rgb/\", \"color%06i.png\" % count), cv_img)\n",
    "            count += 1\n",
    "        count = 0\n",
    "        for topic, msg, t in self.bag.read_messages(topics=[self.depth_topic]):\n",
    "            cv_img = bridge.imgmsg_to_cv2(msg, \"16UC1\")\n",
    "            cv2.imwrite(os.path.join(self.output_dir+\"depth/\", \"depth%06i.png\" % count), cv_img)\n",
    "            count += 1\n",
    "        self.bag.close()\n",
    "        print(\"done\")\n",
    "        return\n",
    "    \n",
    "    def detect_apriltag(self):\n",
    "        img_path = \"data/\"+'extract/rgb/color000003.png'\n",
    "        depth_path = \"data/\"+'extract/depth/depth000003.png'\n",
    "        img = cv2.imread(img_path)\n",
    "        gray = cv2.cvtColor(img, cv2.COLOR_BGR2GRAY)\n",
    "        depth = cv2.imread(depth_path, -cv2.IMREAD_ANYDEPTH)\n",
    "        dst = cv2.cvtColor(img, cv2.COLOR_BGR2RGB)\n",
    "        # Visualization\n",
    "        plt.subplot(131),plt.imshow(dst, cmap = 'brg')\n",
    "        plt.title('rgb'), plt.xticks([]), plt.yticks([])\n",
    "        #apriltag detect\n",
    "        options = apriltag.DetectorOptions(families=\"tag36h11\")\n",
    "        detector = apriltag.Detector(options)\n",
    "        results = detector.detect(gray)\n",
    "        detection_results, dimg = detector.detect(gray, return_image=True)\n",
    "        for r in results:\n",
    "            print(\"id: {}, center: {}\".format(r.tag_id, r.center))\n",
    "        print(\"[INFO] {} total AprilTags detected\".format(len(results)))\n",
    "        plt.subplot(132),plt.imshow(dst, cmap = 'brg')\n",
    "        plt.title('AprilTags'), plt.xticks([]), plt.yticks([])\n",
    "        for r in detection_results:\n",
    "            (c_x, c_y) = (int(r.center[0]), int(r.center[1]))\n",
    "            d = depth[c_y, c_x]\n",
    "        print(\"depth of Apriltag {}: {})\".format(r.tag_id, d))\n",
    "        plt.subplot(133),plt.imshow(dimg, cmap = 'brg')\n",
    "        plt.title('Filter'), plt.xticks([]), plt.yticks([])\n",
    "        return\n",
    "    \n",
    "    def detect_near_object(self):\n",
    "        img_path = \"data/\"+'extract/rgb/color000046.png'\n",
    "        depth_path = \"data/\"+'extract/depth/depth000046.png'\n",
    "        img = cv2.imread(img_path)\n",
    "        gray = cv2.cvtColor(img, cv2.COLOR_BGR2GRAY)\n",
    "        depth = cv2.imread(depth_path, -cv2.IMREAD_ANYDEPTH)\n",
    "        dst = cv2.cvtColor(img, cv2.COLOR_BGR2RGB)\n",
    "        # Visualization\n",
    "        plt.subplot(131),plt.imshow(dst, cmap = 'brg')\n",
    "        plt.title('rgb'), plt.xticks([]), plt.yticks([])\n",
    "        plt.subplot(132),plt.imshow(depth, interpolation='nearest')\n",
    "        plt.title('depth'), plt.xticks([]), plt.yticks([])\n",
    "        # find near\n",
    "        for n in depth:\n",
    "            print(n)\n",
    "            print(\".\")\n",
    "        depth_near = depth < 70\n",
    "        print(depth_near)\n",
    "        depth_far = depth > 50\n",
    "        print(depth_far)\n",
    "        count_near = 0\n",
    "        count_far = 0\n",
    "        for n in depth_near:\n",
    "            count_near += 1\n",
    "        for n in depth_far:\n",
    "            if n is True:\n",
    "                count_far += 1\n",
    "        print(count_near)\n",
    "        print(count_far)\n",
    "        #\n",
    "        output = dst\n",
    "        #\n",
    "        plt.subplot(133),plt.imshow(output, cmap = 'brg')\n",
    "        plt.title('filter'), plt.xticks([]), plt.yticks([])      \n",
    "        return\n",
    "    \n",
    "    def detect_color_block(self):\n",
    "        img_path = \"data/\"+'extract/rgb/color000046.png'\n",
    "        depth_path = \"data/\"+'extract/depth/depth000046.png'\n",
    "        img = cv2.imread(img_path)\n",
    "        gray = cv2.cvtColor(img, cv2.COLOR_BGR2GRAY)\n",
    "        depth = cv2.imread(depth_path, -cv2.IMREAD_ANYDEPTH)\n",
    "        dst = cv2.cvtColor(img, cv2.COLOR_BGR2RGB)\n",
    "        # Visualization\n",
    "        plt.subplot(131),plt.imshow(dst, cmap = 'brg')\n",
    "        plt.title('rgb'), plt.xticks([]), plt.yticks([])\n",
    "        plt.subplot(132),plt.imshow(depth, interpolation='nearest')\n",
    "        plt.title('depth'), plt.xticks([]), plt.yticks([])\n",
    "        # Set mask for color detect\n",
    "        lower_blue = np.array([110,50,50])\n",
    "        upper_blue = np.array([130,255,255])\n",
    "        lower_green = np.array([45,100,20])\n",
    "        upper_green = np.array([75,255,255])\n",
    "        lower_red = np.array([161, 155, 84])\n",
    "        upper_red = np.array([179, 255, 255])\n",
    "        mask_blue = cv2.inRange(img, lower_blue, upper_blue)\n",
    "        mask_green = cv2.inRange(img, lower_green, upper_green)\n",
    "        mask_red = cv2.inRange(img, lower_red, upper_red)      \n",
    "        #define kernel size  \n",
    "        kernel = np.ones((90,90),np.uint8)\n",
    "        # Remove unnecessary noise from mask\n",
    "        mask = cv2.morphologyEx(mask_red, cv2.MORPH_CLOSE, kernel)\n",
    "        mask = cv2.morphologyEx(mask, cv2.MORPH_OPEN, kernel)\n",
    "        output = cv2.bitwise_and(img, img, mask = mask)\n",
    "        # Find contours from the mask\n",
    "        contours, hierarchy = cv2.findContours(mask.copy(), cv2.RETR_EXTERNAL, cv2.CHAIN_APPROX_SIMPLE)\n",
    "        output = cv2.drawContours(output, contours, -1, (0, 0, 255), 3)\n",
    "        plt.subplot(133),plt.imshow(output, cmap = 'brg')\n",
    "        plt.title('filter'), plt.xticks([]), plt.yticks([])      \n",
    "        return"
   ]
  },
  {
   "cell_type": "code",
   "execution_count": null,
   "metadata": {},
   "outputs": [],
   "source": [
    "import gdown\n",
    "#for zed\n",
    "url = \"https://drive.google.com/u/1/uc?id=1WwZBE2vmJqsNQYpwDjQGd8m_mhjYN8Bj&export=download\"\n",
    "output = \"data/\"+\"zed.bag\"\n",
    "file_exists = exists(\"data/zed.bag\")\n",
    "if file_exists is False:\n",
    "    gdown.download(url, output, quiet=False)\n",
    "else:\n",
    "    print(\"file exists\")"
   ]
  },
  {
   "cell_type": "code",
   "execution_count": null,
   "metadata": {},
   "outputs": [],
   "source": [
    "import gdown\n",
    "#for dreamvu\n",
    "url = \"https://drive.google.com/u/1/uc?id=1VgD1HdtB64k3IIdmdFMuxXZ5-IeuTxio&export=download\"\n",
    "output = \"data/\"+\"dreamvu.bag\"\n",
    "file_exists = exists(\"data/dreamvu.bag\")\n",
    "if file_exists is False:\n",
    "    gdown.download(url, output, quiet=False)\n",
    "else:\n",
    "    print(\"file exists\")"
   ]
  },
  {
   "cell_type": "code",
   "execution_count": null,
   "metadata": {},
   "outputs": [],
   "source": [
    "ls && mkdir data/extract && mkdir data/extract/rgb && mkdir data/extract/depth"
   ]
  },
  {
   "cell_type": "code",
   "execution_count": null,
   "metadata": {},
   "outputs": [],
   "source": [
    "#for zed\n",
    "extracter = arg_bag_extracter(bag_file=\"zed.bag\", output_dir=\"extract/\", image_topic=\"/zed/zed_node/left_raw/image_raw_color\", depth_topic=\"/zed/zed_node/depth/depth_registered\")"
   ]
  },
  {
   "cell_type": "code",
   "execution_count": null,
   "metadata": {},
   "outputs": [],
   "source": [
    "#for dreamvu\n",
    "extracter = arg_bag_extracter(bag_file=\"dreamvu.bag\", output_dir=\"extract/\", image_topic=\"/dreamvu/pal/get/left\", depth_topic=\"/dreamvu/pal/get/depth\")"
   ]
  },
  {
   "cell_type": "code",
   "execution_count": null,
   "metadata": {},
   "outputs": [],
   "source": [
    "extracter.extract()"
   ]
  },
  {
   "cell_type": "code",
   "execution_count": null,
   "metadata": {},
   "outputs": [],
   "source": [
    "ls data/extract/ && ls data/extract/rgb/"
   ]
  },
  {
   "cell_type": "code",
   "execution_count": null,
   "metadata": {
    "scrolled": true
   },
   "outputs": [],
   "source": [
    "extracter.detect_apriltag()"
   ]
  },
  {
   "cell_type": "code",
   "execution_count": null,
   "metadata": {},
   "outputs": [],
   "source": [
    "extracter.detect_color_block()"
   ]
  },
  {
   "cell_type": "code",
   "execution_count": null,
   "metadata": {},
   "outputs": [],
   "source": [
    "extracter.detect_near_object()"
   ]
  },
  {
   "cell_type": "code",
   "execution_count": null,
   "metadata": {},
   "outputs": [],
   "source": []
  }
 ],
 "metadata": {
  "kernelspec": {
   "display_name": "Python 3 (ipykernel)",
   "language": "python",
   "name": "python3"
  },
  "language_info": {
   "codemirror_mode": {
    "name": "ipython",
    "version": 3
   },
   "file_extension": ".py",
   "mimetype": "text/x-python",
   "name": "python",
   "nbconvert_exporter": "python",
   "pygments_lexer": "ipython3",
   "version": "3.8.10"
  }
 },
 "nbformat": 4,
 "nbformat_minor": 2
}
